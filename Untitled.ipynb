{
 "cells": [
  {
   "cell_type": "code",
   "execution_count": 1,
   "id": "7bf96b12",
   "metadata": {},
   "outputs": [],
   "source": [
    "import pandas as pd\n",
    "import numpy as np\n",
    "\n",
    "import re\n",
    "from tqdm import tqdm\n",
    "from nltk.corpus import stopwords\n",
    "from sklearn.naive_bayes import GaussianNB\n",
    "from sklearn.linear_model import SGDClassifier\n",
    "from sklearn.model_selection import GridSearchCV\n",
    "from sklearn.metrics import f1_score, make_scorer\n",
    "from sklearn.linear_model import LogisticRegression\n",
    "from sklearn.model_selection import train_test_split\n",
    "from sklearn.feature_extraction.text import CountVectorizer"
   ]
  },
  {
   "cell_type": "code",
   "execution_count": 2,
   "id": "497f29ff",
   "metadata": {},
   "outputs": [],
   "source": [
    "train_data = pd.read_csv('./train.csv')\n",
    "test_data = pd.read_csv('./test.csv')"
   ]
  },
  {
   "cell_type": "code",
   "execution_count": 8,
   "id": "d35018a9",
   "metadata": {},
   "outputs": [
    {
     "data": {
      "text/plain": [
       "array(['ablaze', 'accident', 'aftershock', 'airplane%20accident',\n",
       "       'ambulance', 'annihilated', 'annihilation', 'apocalypse',\n",
       "       'armageddon', 'army', 'arson', 'arsonist', 'attack', 'attacked',\n",
       "       'avalanche', 'battle', 'bioterror', 'bioterrorism', 'blaze',\n",
       "       'blazing', 'bleeding', 'blew%20up', 'blight', 'blizzard', 'blood',\n",
       "       'bloody', 'blown%20up', 'body%20bag', 'body%20bagging',\n",
       "       'body%20bags', 'bomb', 'bombed', 'bombing', 'bridge%20collapse',\n",
       "       'buildings%20burning', 'buildings%20on%20fire', 'burned',\n",
       "       'burning', 'burning%20buildings', 'bush%20fires', 'casualties',\n",
       "       'casualty', 'catastrophe', 'catastrophic', 'chemical%20emergency',\n",
       "       'cliff%20fall', 'collapse', 'collapsed', 'collide', 'collided',\n",
       "       'collision', 'crash', 'crashed', 'crush', 'crushed', 'curfew',\n",
       "       'cyclone', 'damage', 'danger', 'dead', 'death', 'deaths', 'debris',\n",
       "       'deluge', 'deluged', 'demolish', 'demolished', 'demolition',\n",
       "       'derail', 'derailed', 'derailment', 'desolate', 'desolation',\n",
       "       'destroy', 'destroyed', 'destruction', 'detonate', 'detonation',\n",
       "       'devastated', 'devastation', 'disaster', 'displaced', 'drought',\n",
       "       'drown', 'drowned', 'drowning', 'dust%20storm', 'earthquake',\n",
       "       'electrocute', 'electrocuted', 'emergency', 'emergency%20plan',\n",
       "       'emergency%20services', 'engulfed', 'epicentre', 'evacuate',\n",
       "       'evacuated', 'evacuation', 'explode', 'exploded', 'explosion',\n",
       "       'eyewitness', 'famine', 'fatal', 'fatalities', 'fatality', 'fear',\n",
       "       'fire', 'fire%20truck', 'first%20responders', 'flames',\n",
       "       'flattened', 'flood', 'flooding', 'floods', 'forest%20fire',\n",
       "       'forest%20fires', 'hail', 'hailstorm', 'harm', 'hazard',\n",
       "       'hazardous', 'heat%20wave', 'hellfire', 'hijack', 'hijacker',\n",
       "       'hijacking', 'hostage', 'hostages', 'hurricane', 'injured',\n",
       "       'injuries', 'injury', 'inundated', 'inundation', 'landslide',\n",
       "       'lava', 'lightning', 'loud%20bang', 'mass%20murder',\n",
       "       'mass%20murderer', 'massacre', 'mayhem', 'meltdown', 'military',\n",
       "       'mudslide', 'natural%20disaster', 'nuclear%20disaster',\n",
       "       'nuclear%20reactor', 'obliterate', 'obliterated', 'obliteration',\n",
       "       'oil%20spill', 'outbreak', 'pandemonium', 'panic', 'panicking',\n",
       "       'police', 'quarantine', 'quarantined', 'radiation%20emergency',\n",
       "       'rainstorm', 'razed', 'refugees', 'rescue', 'rescued', 'rescuers',\n",
       "       'riot', 'rioting', 'rubble', 'ruin', 'sandstorm', 'screamed',\n",
       "       'screaming', 'screams', 'seismic', 'sinkhole', 'sinking', 'siren',\n",
       "       'sirens', 'smoke', 'snowstorm', 'storm', 'stretcher',\n",
       "       'structural%20failure', 'suicide%20bomb', 'suicide%20bomber',\n",
       "       'suicide%20bombing', 'sunk', 'survive', 'survived', 'survivors',\n",
       "       'terrorism', 'terrorist', 'threat', 'thunder', 'thunderstorm',\n",
       "       'tornado', 'tragedy', 'trapped', 'trauma', 'traumatised',\n",
       "       'trouble', 'tsunami', 'twister', 'typhoon', 'upheaval',\n",
       "       'violent%20storm', 'volcano', 'war%20zone', 'weapon', 'weapons',\n",
       "       'whirlwind', 'wild%20fires', 'wildfire', 'windstorm', 'wounded',\n",
       "       'wounds', 'wreck', 'wreckage', 'wrecked', nan], dtype=object)"
      ]
     },
     "execution_count": 8,
     "metadata": {},
     "output_type": "execute_result"
    }
   ],
   "source": [
    "train_data['keyword'].fillna(method = 'backfill').unique()"
   ]
  },
  {
   "cell_type": "code",
   "execution_count": 5,
   "id": "cc6d7519",
   "metadata": {},
   "outputs": [
    {
     "data": {
      "text/plain": [
       "fatalities               45\n",
       "deluge                   42\n",
       "armageddon               42\n",
       "sinking                  41\n",
       "damage                   41\n",
       "                         ..\n",
       "forest%20fire            19\n",
       "epicentre                12\n",
       "threat                   11\n",
       "inundation               10\n",
       "radiation%20emergency     9\n",
       "Name: keyword, Length: 221, dtype: int64"
      ]
     },
     "execution_count": 5,
     "metadata": {},
     "output_type": "execute_result"
    }
   ],
   "source": [
    "train_data['keyword']."
   ]
  },
  {
   "cell_type": "code",
   "execution_count": 28,
   "id": "cd285a6a",
   "metadata": {},
   "outputs": [
    {
     "name": "stdout",
     "output_type": "stream",
     "text": [
      "<class 'pandas.core.frame.DataFrame'>\n",
      "RangeIndex: 7613 entries, 0 to 7612\n",
      "Data columns (total 5 columns):\n",
      " #   Column    Non-Null Count  Dtype \n",
      "---  ------    --------------  ----- \n",
      " 0   id        7613 non-null   int64 \n",
      " 1   keyword   7552 non-null   object\n",
      " 2   location  5080 non-null   object\n",
      " 3   text      7613 non-null   object\n",
      " 4   target    7613 non-null   int64 \n",
      "dtypes: int64(2), object(3)\n",
      "memory usage: 297.5+ KB\n"
     ]
    }
   ],
   "source": [
    "train_data.info()"
   ]
  },
  {
   "cell_type": "code",
   "execution_count": 29,
   "id": "9477214f",
   "metadata": {},
   "outputs": [
    {
     "name": "stdout",
     "output_type": "stream",
     "text": [
      "<class 'pandas.core.frame.DataFrame'>\n",
      "RangeIndex: 3263 entries, 0 to 3262\n",
      "Data columns (total 4 columns):\n",
      " #   Column    Non-Null Count  Dtype \n",
      "---  ------    --------------  ----- \n",
      " 0   id        3263 non-null   int64 \n",
      " 1   keyword   3237 non-null   object\n",
      " 2   location  2158 non-null   object\n",
      " 3   text      3263 non-null   object\n",
      "dtypes: int64(1), object(3)\n",
      "memory usage: 102.1+ KB\n"
     ]
    }
   ],
   "source": [
    "test_data.info()"
   ]
  },
  {
   "cell_type": "code",
   "execution_count": 30,
   "id": "192346b8",
   "metadata": {},
   "outputs": [
    {
     "data": {
      "text/html": [
       "<div>\n",
       "<style scoped>\n",
       "    .dataframe tbody tr th:only-of-type {\n",
       "        vertical-align: middle;\n",
       "    }\n",
       "\n",
       "    .dataframe tbody tr th {\n",
       "        vertical-align: top;\n",
       "    }\n",
       "\n",
       "    .dataframe thead th {\n",
       "        text-align: right;\n",
       "    }\n",
       "</style>\n",
       "<table border=\"1\" class=\"dataframe\">\n",
       "  <thead>\n",
       "    <tr style=\"text-align: right;\">\n",
       "      <th></th>\n",
       "      <th>id</th>\n",
       "      <th>keyword</th>\n",
       "      <th>location</th>\n",
       "      <th>text</th>\n",
       "      <th>target</th>\n",
       "    </tr>\n",
       "  </thead>\n",
       "  <tbody>\n",
       "    <tr>\n",
       "      <th>31</th>\n",
       "      <td>48</td>\n",
       "      <td>ablaze</td>\n",
       "      <td>Birmingham</td>\n",
       "      <td>@bbcmtd Wholesale Markets ablaze http://t.co/l...</td>\n",
       "      <td>1</td>\n",
       "    </tr>\n",
       "    <tr>\n",
       "      <th>32</th>\n",
       "      <td>49</td>\n",
       "      <td>ablaze</td>\n",
       "      <td>Est. September 2012 - Bristol</td>\n",
       "      <td>We always try to bring the heavy. #metal #RT h...</td>\n",
       "      <td>0</td>\n",
       "    </tr>\n",
       "    <tr>\n",
       "      <th>33</th>\n",
       "      <td>50</td>\n",
       "      <td>ablaze</td>\n",
       "      <td>AFRICA</td>\n",
       "      <td>#AFRICANBAZE: Breaking news:Nigeria flag set a...</td>\n",
       "      <td>1</td>\n",
       "    </tr>\n",
       "    <tr>\n",
       "      <th>34</th>\n",
       "      <td>52</td>\n",
       "      <td>ablaze</td>\n",
       "      <td>Philadelphia, PA</td>\n",
       "      <td>Crying out for more! Set me ablaze</td>\n",
       "      <td>0</td>\n",
       "    </tr>\n",
       "    <tr>\n",
       "      <th>35</th>\n",
       "      <td>53</td>\n",
       "      <td>ablaze</td>\n",
       "      <td>London, UK</td>\n",
       "      <td>On plus side LOOK AT THE SKY LAST NIGHT IT WAS...</td>\n",
       "      <td>0</td>\n",
       "    </tr>\n",
       "  </tbody>\n",
       "</table>\n",
       "</div>"
      ],
      "text/plain": [
       "    id keyword                       location  \\\n",
       "31  48  ablaze                     Birmingham   \n",
       "32  49  ablaze  Est. September 2012 - Bristol   \n",
       "33  50  ablaze                         AFRICA   \n",
       "34  52  ablaze               Philadelphia, PA   \n",
       "35  53  ablaze                     London, UK   \n",
       "\n",
       "                                                 text  target  \n",
       "31  @bbcmtd Wholesale Markets ablaze http://t.co/l...       1  \n",
       "32  We always try to bring the heavy. #metal #RT h...       0  \n",
       "33  #AFRICANBAZE: Breaking news:Nigeria flag set a...       1  \n",
       "34                 Crying out for more! Set me ablaze       0  \n",
       "35  On plus side LOOK AT THE SKY LAST NIGHT IT WAS...       0  "
      ]
     },
     "execution_count": 30,
     "metadata": {},
     "output_type": "execute_result"
    }
   ],
   "source": [
    "train_data.dropna().head()"
   ]
  },
  {
   "cell_type": "code",
   "execution_count": 31,
   "id": "5a7626fc",
   "metadata": {},
   "outputs": [
    {
     "data": {
      "text/plain": [
       "0    4342\n",
       "1    3271\n",
       "Name: target, dtype: int64"
      ]
     },
     "execution_count": 31,
     "metadata": {},
     "output_type": "execute_result"
    }
   ],
   "source": [
    "train_data['target'].value_counts()"
   ]
  },
  {
   "cell_type": "code",
   "execution_count": 32,
   "id": "9320010e",
   "metadata": {},
   "outputs": [
    {
     "name": "stdout",
     "output_type": "stream",
     "text": [
      "0.80% (61) Null Values Present in \"keyword\" Feature\n",
      "33.27% (2533) Null Values Present in \"location\" Feature\n"
     ]
    }
   ],
   "source": [
    "null_values = train_data.isnull().sum()\n",
    "for index in range(len(train_data.columns)):\n",
    "    if null_values[index] > 0:\n",
    "        print('{:.2f}% ({}) Null Values Present in \"{}\" Feature'.format(null_values[index]/len(train_data)*100,\n",
    "                                                              null_values[index], train_data.columns[index]))"
   ]
  },
  {
   "cell_type": "code",
   "execution_count": 33,
   "id": "01dca823",
   "metadata": {},
   "outputs": [],
   "source": [
    "train_data['keyword'].fillna(method = 'backfill', inplace = True)\n",
    "train_data['keyword'].fillna(method = 'ffill', inplace = True)\n",
    "test_data['keyword'].fillna(method = 'backfill', inplace = True)\n",
    "test_data['keyword'].fillna(method = 'ffill', inplace = True)"
   ]
  },
  {
   "cell_type": "code",
   "execution_count": 34,
   "id": "76ee9698",
   "metadata": {},
   "outputs": [
    {
     "data": {
      "text/plain": [
       "ablaze                   29\n",
       "deluged                  23\n",
       "rubble                   22\n",
       "demolished               22\n",
       "wrecked                  22\n",
       "                         ..\n",
       "fatalities                5\n",
       "radiation%20emergency     5\n",
       "threat                    5\n",
       "inundation                4\n",
       "epicentre                 1\n",
       "Name: keyword, Length: 221, dtype: int64"
      ]
     },
     "execution_count": 34,
     "metadata": {},
     "output_type": "execute_result"
    }
   ],
   "source": [
    "test_data['keyword'].value_counts()"
   ]
  },
  {
   "cell_type": "code",
   "execution_count": 35,
   "id": "c670ab5c",
   "metadata": {},
   "outputs": [],
   "source": [
    "def decontration(text):\n",
    "    text = re.sub(r\"aren't\", 'are not', text)\n",
    "    text = re.sub(r\"won't\", 'will not', text)\n",
    "    text = re.sub(r\"doesn't\", 'does not', text)\n",
    "    \n",
    "    text = re.sub(r\"n\\'t\", \" not\", text)\n",
    "    text = re.sub(r\"\\'re\", \" are\", text)\n",
    "    text = re.sub(r\"\\'s\", \" is\", text)\n",
    "    text = re.sub(r\"\\'d\", \" would\", text)\n",
    "    text = re.sub(r\"\\'ll\", \" will\", text)\n",
    "    text = re.sub(r\"\\'t\", \" not\", text)\n",
    "    text = re.sub(r\"\\'ve\", \" have\", text)\n",
    "    text = re.sub(r\"\\'m\", \" am\", text)\n",
    "    return text.lower()"
   ]
  },
  {
   "cell_type": "code",
   "execution_count": 36,
   "id": "087e28c6",
   "metadata": {},
   "outputs": [],
   "source": [
    "def cleaning_text(text):\n",
    "    text = re.sub(r'http\\S+', ' ', text)\n",
    "    text = decontration(text)\n",
    "    text  = re.sub('[^A-Za-z,0123]+', ' ', text)\n",
    "    \n",
    "    stop_words = set(stopwords.words('english'))\n",
    "    processed_list = [word for word in text.split() if word not in stop_words and len(word) > 2]\n",
    "    return \" \".join(processed_list)"
   ]
  },
  {
   "cell_type": "code",
   "execution_count": 37,
   "id": "f8d3fc69",
   "metadata": {},
   "outputs": [
    {
     "name": "stderr",
     "output_type": "stream",
     "text": [
      "100%|████████████████████████████████████████████████████████████████████████████| 7613/7613 [00:02<00:00, 3324.34it/s]\n",
      "100%|████████████████████████████████████████████████████████████████████████████| 3263/3263 [00:00<00:00, 3379.57it/s]\n"
     ]
    }
   ],
   "source": [
    "preprocessed_text = []\n",
    "for text in tqdm(train_data['text']):\n",
    "    preprocessed_text.append(cleaning_text(text))\n",
    "train_data['text'] = preprocessed_text\n",
    "\n",
    "preprocessed_text = []\n",
    "for text in tqdm(test_data['text']):\n",
    "    preprocessed_text.append(cleaning_text(text))\n",
    "test_data['text'] = preprocessed_text"
   ]
  },
  {
   "cell_type": "code",
   "execution_count": 38,
   "id": "731e600b",
   "metadata": {},
   "outputs": [
    {
     "data": {
      "text/plain": [
       "0        ablaze\n",
       "1        ablaze\n",
       "2        ablaze\n",
       "3        ablaze\n",
       "4        ablaze\n",
       "         ...   \n",
       "7608    wrecked\n",
       "7609    wrecked\n",
       "7610    wrecked\n",
       "7611    wrecked\n",
       "7612    wrecked\n",
       "Name: keyword, Length: 7613, dtype: object"
      ]
     },
     "execution_count": 38,
     "metadata": {},
     "output_type": "execute_result"
    }
   ],
   "source": [
    "train_data['keyword']"
   ]
  },
  {
   "cell_type": "code",
   "execution_count": 39,
   "id": "6fe09627",
   "metadata": {},
   "outputs": [],
   "source": [
    "X = train_data[['keyword', 'text']]\n",
    "y = train_data['target']\n",
    "X_train, X_test,y_train, y_test = train_test_split(X, y, test_size = 0.2, stratify = y)"
   ]
  },
  {
   "cell_type": "code",
   "execution_count": 40,
   "id": "266364ab",
   "metadata": {},
   "outputs": [
    {
     "data": {
      "text/html": [
       "<div>\n",
       "<style scoped>\n",
       "    .dataframe tbody tr th:only-of-type {\n",
       "        vertical-align: middle;\n",
       "    }\n",
       "\n",
       "    .dataframe tbody tr th {\n",
       "        vertical-align: top;\n",
       "    }\n",
       "\n",
       "    .dataframe thead th {\n",
       "        text-align: right;\n",
       "    }\n",
       "</style>\n",
       "<table border=\"1\" class=\"dataframe\">\n",
       "  <thead>\n",
       "    <tr style=\"text-align: right;\">\n",
       "      <th></th>\n",
       "      <th>keyword</th>\n",
       "      <th>text</th>\n",
       "    </tr>\n",
       "  </thead>\n",
       "  <tbody>\n",
       "    <tr>\n",
       "      <th>3750</th>\n",
       "      <td>fire</td>\n",
       "      <td>put flood fire top list</td>\n",
       "    </tr>\n",
       "    <tr>\n",
       "      <th>3627</th>\n",
       "      <td>fatalities</td>\n",
       "      <td>rejected mortal kombat fatalities mortal komba...</td>\n",
       "    </tr>\n",
       "    <tr>\n",
       "      <th>2271</th>\n",
       "      <td>demolish</td>\n",
       "      <td>enugu government demolish illegal structures i...</td>\n",
       "    </tr>\n",
       "    <tr>\n",
       "      <th>5717</th>\n",
       "      <td>rescuers</td>\n",
       "      <td>woman gps app guides rescuers injured biker ma...</td>\n",
       "    </tr>\n",
       "    <tr>\n",
       "      <th>1781</th>\n",
       "      <td>crash</td>\n",
       "      <td>bought another meinlcymbals medium crash hey m...</td>\n",
       "    </tr>\n",
       "    <tr>\n",
       "      <th>...</th>\n",
       "      <td>...</td>\n",
       "      <td>...</td>\n",
       "    </tr>\n",
       "    <tr>\n",
       "      <th>6490</th>\n",
       "      <td>sunk</td>\n",
       "      <td>lip sunk bed arms crossed behind head watched ...</td>\n",
       "    </tr>\n",
       "    <tr>\n",
       "      <th>7220</th>\n",
       "      <td>weapons</td>\n",
       "      <td>sorry resort weapons settle something pussy wi...</td>\n",
       "    </tr>\n",
       "    <tr>\n",
       "      <th>5586</th>\n",
       "      <td>razed</td>\n",
       "      <td>news latest homes razed northern california wi...</td>\n",
       "    </tr>\n",
       "    <tr>\n",
       "      <th>7383</th>\n",
       "      <td>windstorm</td>\n",
       "      <td>like weird ones like rain mystical windstorm o...</td>\n",
       "    </tr>\n",
       "    <tr>\n",
       "      <th>3954</th>\n",
       "      <td>flooding</td>\n",
       "      <td>adorableappple reported flooding area ten mmda</td>\n",
       "    </tr>\n",
       "  </tbody>\n",
       "</table>\n",
       "<p>6090 rows × 2 columns</p>\n",
       "</div>"
      ],
      "text/plain": [
       "         keyword                                               text\n",
       "3750        fire                            put flood fire top list\n",
       "3627  fatalities  rejected mortal kombat fatalities mortal komba...\n",
       "2271    demolish  enugu government demolish illegal structures i...\n",
       "5717    rescuers  woman gps app guides rescuers injured biker ma...\n",
       "1781       crash  bought another meinlcymbals medium crash hey m...\n",
       "...          ...                                                ...\n",
       "6490        sunk  lip sunk bed arms crossed behind head watched ...\n",
       "7220     weapons  sorry resort weapons settle something pussy wi...\n",
       "5586       razed  news latest homes razed northern california wi...\n",
       "7383   windstorm  like weird ones like rain mystical windstorm o...\n",
       "3954    flooding     adorableappple reported flooding area ten mmda\n",
       "\n",
       "[6090 rows x 2 columns]"
      ]
     },
     "execution_count": 40,
     "metadata": {},
     "output_type": "execute_result"
    }
   ],
   "source": [
    "X_train"
   ]
  },
  {
   "cell_type": "code",
   "execution_count": 41,
   "id": "1bff6061",
   "metadata": {},
   "outputs": [
    {
     "name": "stdout",
     "output_type": "stream",
     "text": [
      "Vectorized Training Text Data Shape    :  (6090, 3463)\n",
      "Vectorized Testing Text Data Shape     :  (1523, 3463)\n",
      "Vectorized Real Testing Text Shape     :  (3263, 3463)\n"
     ]
    }
   ],
   "source": [
    "vectorizer = CountVectorizer(min_df=3)\n",
    "X_train_text = vectorizer.fit_transform(X_train['text'])\n",
    "X_test_text = vectorizer.transform(X_test['text'])\n",
    "test_text = vectorizer.transform(test_data['text']) \n",
    "\n",
    "print(\"Vectorized Training Text Data Shape    : \", X_train_text.shape)\n",
    "print(\"Vectorized Testing Text Data Shape     : \", X_test_text.shape)\n",
    "print(\"Vectorized Real Testing Text Shape     : \", test_text.shape)"
   ]
  },
  {
   "cell_type": "code",
   "execution_count": null,
   "id": "5411452f",
   "metadata": {},
   "outputs": [],
   "source": []
  },
  {
   "cell_type": "code",
   "execution_count": 42,
   "id": "bd21db9f",
   "metadata": {},
   "outputs": [
    {
     "name": "stdout",
     "output_type": "stream",
     "text": [
      "Vectorized Training Data Shape    :  (6090, 239)\n",
      "Vectorized Testing Data Shape     :  (1523, 239)\n",
      "Vectorized Testing Data Shape     :  (3263, 239)\n"
     ]
    }
   ],
   "source": [
    "vectorizer = CountVectorizer()\n",
    "X_train_keyword = vectorizer.fit_transform(X_train['keyword'])\n",
    "X_test_keyword = vectorizer.transform(X_test['keyword']) \n",
    "test_keyword = vectorizer.transform(test_data['keyword']) \n",
    "\n",
    "print(\"Vectorized Training Data Shape    : \", X_train_keyword.shape)\n",
    "print(\"Vectorized Testing Data Shape     : \", X_test_keyword.shape)\n",
    "print(\"Vectorized Testing Data Shape     : \", test_keyword.shape)"
   ]
  },
  {
   "cell_type": "code",
   "execution_count": 43,
   "id": "b962265d",
   "metadata": {},
   "outputs": [
    {
     "name": "stdout",
     "output_type": "stream",
     "text": [
      "  (0, 131)\t1\n",
      "  (1, 128)\t1\n",
      "  (2, 91)\t1\n",
      "  (3, 186)\t1\n",
      "  (4, 77)\t1\n",
      "  (5, 111)\t1\n",
      "  (6, 210)\t1\n",
      "  (7, 151)\t1\n",
      "  (8, 124)\t1\n",
      "  (9, 191)\t1\n",
      "  (10, 100)\t1\n",
      "  (11, 30)\t1\n",
      "  (12, 233)\t1\n",
      "  (13, 105)\t1\n",
      "  (14, 228)\t1\n",
      "  (15, 195)\t1\n",
      "  (16, 233)\t1\n",
      "  (17, 233)\t1\n",
      "  (18, 168)\t1\n",
      "  (18, 21)\t1\n",
      "  (19, 143)\t1\n",
      "  (20, 147)\t1\n",
      "  (21, 79)\t1\n",
      "  (22, 121)\t1\n",
      "  (23, 161)\t1\n",
      "  :\t:\n",
      "  (6068, 57)\t1\n",
      "  (6068, 2)\t1\n",
      "  (6069, 169)\t1\n",
      "  (6070, 111)\t1\n",
      "  (6071, 64)\t1\n",
      "  (6072, 100)\t1\n",
      "  (6073, 89)\t1\n",
      "  (6074, 114)\t1\n",
      "  (6075, 189)\t1\n",
      "  (6076, 225)\t1\n",
      "  (6076, 25)\t1\n",
      "  (6077, 67)\t1\n",
      "  (6078, 234)\t1\n",
      "  (6079, 168)\t1\n",
      "  (6079, 11)\t1\n",
      "  (6080, 183)\t1\n",
      "  (6081, 169)\t1\n",
      "  (6082, 34)\t1\n",
      "  (6083, 178)\t1\n",
      "  (6084, 197)\t1\n",
      "  (6085, 206)\t1\n",
      "  (6086, 229)\t1\n",
      "  (6087, 182)\t1\n",
      "  (6088, 233)\t1\n",
      "  (6089, 136)\t1\n"
     ]
    }
   ],
   "source": [
    "print(X_train_keyword)"
   ]
  },
  {
   "cell_type": "code",
   "execution_count": 44,
   "id": "3ce10b01",
   "metadata": {},
   "outputs": [],
   "source": [
    "X_train_final = np.hstack((X_train_text.toarray(), X_train_keyword.toarray()))\n",
    "X_test_final = np.hstack((X_test_text.toarray(), X_test_keyword.toarray()))\n",
    "testing_data = np.hstack((test_text.toarray(), test_keyword.toarray()))"
   ]
  },
  {
   "cell_type": "code",
   "execution_count": 50,
   "id": "016ab22b",
   "metadata": {},
   "outputs": [
    {
     "data": {
      "text/plain": [
       "(1523, 3702)"
      ]
     },
     "execution_count": 50,
     "metadata": {},
     "output_type": "execute_result"
    }
   ],
   "source": [
    "X_test_final.shape"
   ]
  },
  {
   "cell_type": "code",
   "execution_count": 74,
   "id": "2dfca1fd",
   "metadata": {},
   "outputs": [
    {
     "name": "stderr",
     "output_type": "stream",
     "text": [
      "C:\\Users\\Jayaprakash V\\Anaconda3\\lib\\site-packages\\sklearn\\linear_model\\_stochastic_gradient.py:173: FutureWarning: The loss 'log' was deprecated in v1.1 and will be removed in version 1.3. Use `loss='log_loss'` which is equivalent.\n",
      "  warnings.warn(\n"
     ]
    },
    {
     "data": {
      "text/plain": [
       "{'alpha': 0.001}"
      ]
     },
     "execution_count": 74,
     "metadata": {},
     "output_type": "execute_result"
    }
   ],
   "source": [
    "parameters = {'alpha' : [0.0001, 0.001, 0.01, 0.1, 1, 10, 100]}\n",
    "sgd_clf = SGDClassifier(class_weight='balanced', penalty='l2', loss='log', random_state=910)\n",
    "clf = GridSearchCV(sgd_clf, parameters, n_jobs = -1, cv = 5, scoring = make_scorer(f1_score))\n",
    "clf.fit(X_train_final, y_train)\n",
    "clf.best_params_"
   ]
  },
  {
   "cell_type": "code",
   "execution_count": 75,
   "id": "56f9dc79",
   "metadata": {},
   "outputs": [
    {
     "name": "stderr",
     "output_type": "stream",
     "text": [
      "C:\\Users\\Jayaprakash V\\Anaconda3\\lib\\site-packages\\sklearn\\linear_model\\_stochastic_gradient.py:173: FutureWarning: The loss 'log' was deprecated in v1.1 and will be removed in version 1.3. Use `loss='log_loss'` which is equivalent.\n",
      "  warnings.warn(\n"
     ]
    },
    {
     "data": {
      "text/html": [
       "<style>#sk-container-id-2 {color: black;background-color: white;}#sk-container-id-2 pre{padding: 0;}#sk-container-id-2 div.sk-toggleable {background-color: white;}#sk-container-id-2 label.sk-toggleable__label {cursor: pointer;display: block;width: 100%;margin-bottom: 0;padding: 0.3em;box-sizing: border-box;text-align: center;}#sk-container-id-2 label.sk-toggleable__label-arrow:before {content: \"▸\";float: left;margin-right: 0.25em;color: #696969;}#sk-container-id-2 label.sk-toggleable__label-arrow:hover:before {color: black;}#sk-container-id-2 div.sk-estimator:hover label.sk-toggleable__label-arrow:before {color: black;}#sk-container-id-2 div.sk-toggleable__content {max-height: 0;max-width: 0;overflow: hidden;text-align: left;background-color: #f0f8ff;}#sk-container-id-2 div.sk-toggleable__content pre {margin: 0.2em;color: black;border-radius: 0.25em;background-color: #f0f8ff;}#sk-container-id-2 input.sk-toggleable__control:checked~div.sk-toggleable__content {max-height: 200px;max-width: 100%;overflow: auto;}#sk-container-id-2 input.sk-toggleable__control:checked~label.sk-toggleable__label-arrow:before {content: \"▾\";}#sk-container-id-2 div.sk-estimator input.sk-toggleable__control:checked~label.sk-toggleable__label {background-color: #d4ebff;}#sk-container-id-2 div.sk-label input.sk-toggleable__control:checked~label.sk-toggleable__label {background-color: #d4ebff;}#sk-container-id-2 input.sk-hidden--visually {border: 0;clip: rect(1px 1px 1px 1px);clip: rect(1px, 1px, 1px, 1px);height: 1px;margin: -1px;overflow: hidden;padding: 0;position: absolute;width: 1px;}#sk-container-id-2 div.sk-estimator {font-family: monospace;background-color: #f0f8ff;border: 1px dotted black;border-radius: 0.25em;box-sizing: border-box;margin-bottom: 0.5em;}#sk-container-id-2 div.sk-estimator:hover {background-color: #d4ebff;}#sk-container-id-2 div.sk-parallel-item::after {content: \"\";width: 100%;border-bottom: 1px solid gray;flex-grow: 1;}#sk-container-id-2 div.sk-label:hover label.sk-toggleable__label {background-color: #d4ebff;}#sk-container-id-2 div.sk-serial::before {content: \"\";position: absolute;border-left: 1px solid gray;box-sizing: border-box;top: 0;bottom: 0;left: 50%;z-index: 0;}#sk-container-id-2 div.sk-serial {display: flex;flex-direction: column;align-items: center;background-color: white;padding-right: 0.2em;padding-left: 0.2em;position: relative;}#sk-container-id-2 div.sk-item {position: relative;z-index: 1;}#sk-container-id-2 div.sk-parallel {display: flex;align-items: stretch;justify-content: center;background-color: white;position: relative;}#sk-container-id-2 div.sk-item::before, #sk-container-id-2 div.sk-parallel-item::before {content: \"\";position: absolute;border-left: 1px solid gray;box-sizing: border-box;top: 0;bottom: 0;left: 50%;z-index: -1;}#sk-container-id-2 div.sk-parallel-item {display: flex;flex-direction: column;z-index: 1;position: relative;background-color: white;}#sk-container-id-2 div.sk-parallel-item:first-child::after {align-self: flex-end;width: 50%;}#sk-container-id-2 div.sk-parallel-item:last-child::after {align-self: flex-start;width: 50%;}#sk-container-id-2 div.sk-parallel-item:only-child::after {width: 0;}#sk-container-id-2 div.sk-dashed-wrapped {border: 1px dashed gray;margin: 0 0.4em 0.5em 0.4em;box-sizing: border-box;padding-bottom: 0.4em;background-color: white;}#sk-container-id-2 div.sk-label label {font-family: monospace;font-weight: bold;display: inline-block;line-height: 1.2em;}#sk-container-id-2 div.sk-label-container {text-align: center;}#sk-container-id-2 div.sk-container {/* jupyter's `normalize.less` sets `[hidden] { display: none; }` but bootstrap.min.css set `[hidden] { display: none !important; }` so we also need the `!important` here to be able to override the default hidden behavior on the sphinx rendered scikit-learn.org. See: https://github.com/scikit-learn/scikit-learn/issues/21755 */display: inline-block !important;position: relative;}#sk-container-id-2 div.sk-text-repr-fallback {display: none;}</style><div id=\"sk-container-id-2\" class=\"sk-top-container\"><div class=\"sk-text-repr-fallback\"><pre>SGDClassifier(alpha=0.001, class_weight=&#x27;balanced&#x27;, loss=&#x27;log&#x27;,\n",
       "              random_state=910)</pre><b>In a Jupyter environment, please rerun this cell to show the HTML representation or trust the notebook. <br />On GitHub, the HTML representation is unable to render, please try loading this page with nbviewer.org.</b></div><div class=\"sk-container\" hidden><div class=\"sk-item\"><div class=\"sk-estimator sk-toggleable\"><input class=\"sk-toggleable__control sk-hidden--visually\" id=\"sk-estimator-id-2\" type=\"checkbox\" checked><label for=\"sk-estimator-id-2\" class=\"sk-toggleable__label sk-toggleable__label-arrow\">SGDClassifier</label><div class=\"sk-toggleable__content\"><pre>SGDClassifier(alpha=0.001, class_weight=&#x27;balanced&#x27;, loss=&#x27;log&#x27;,\n",
       "              random_state=910)</pre></div></div></div></div></div>"
      ],
      "text/plain": [
       "SGDClassifier(alpha=0.001, class_weight='balanced', loss='log',\n",
       "              random_state=910)"
      ]
     },
     "execution_count": 75,
     "metadata": {},
     "output_type": "execute_result"
    }
   ],
   "source": [
    "sgd_clf = SGDClassifier(alpha = 0.001, class_weight='balanced', penalty='l2', loss='log', random_state=910)\n",
    "sgd_clf.fit(X_train_final, y_train)"
   ]
  },
  {
   "cell_type": "code",
   "execution_count": 76,
   "id": "67a0b6ea",
   "metadata": {},
   "outputs": [
    {
     "name": "stdout",
     "output_type": "stream",
     "text": [
      "Train Score  0.8423722200546235\n",
      "Test Score  0.7824109173616376\n"
     ]
    }
   ],
   "source": [
    "train_preds = sgd_clf.predict(X_train_final)\n",
    "test_preds = sgd_clf.predict(X_test_final)\n",
    "\n",
    "print(\"Train Score \", f1_score(y_train, train_preds))\n",
    "print('Test Score ', f1_score(y_test, test_preds))"
   ]
  },
  {
   "cell_type": "code",
   "execution_count": 77,
   "id": "3cf39e8c",
   "metadata": {},
   "outputs": [],
   "source": [
    "submission_file = pd.DataFrame({'id':test_data['id'], 'target':sgd_clf.predict(testing_data)})\n",
    "submission_file.to_csv(\"submission_file.csv\", index=False)"
   ]
  },
  {
   "cell_type": "code",
   "execution_count": null,
   "id": "2eaffa72",
   "metadata": {},
   "outputs": [],
   "source": []
  }
 ],
 "metadata": {
  "kernelspec": {
   "display_name": "Python 3 (ipykernel)",
   "language": "python",
   "name": "python3"
  },
  "language_info": {
   "codemirror_mode": {
    "name": "ipython",
    "version": 3
   },
   "file_extension": ".py",
   "mimetype": "text/x-python",
   "name": "python",
   "nbconvert_exporter": "python",
   "pygments_lexer": "ipython3",
   "version": "3.9.13"
  }
 },
 "nbformat": 4,
 "nbformat_minor": 5
}
